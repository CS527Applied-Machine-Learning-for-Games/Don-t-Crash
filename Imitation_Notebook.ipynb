{
 "cells": [
  {
   "cell_type": "code",
   "execution_count": 1,
   "metadata": {},
   "outputs": [],
   "source": [
    "import setup_path\n",
    "import airsim\n",
    "import cv2\n",
    "import numpy as np\n",
    "import os\n",
    "import time\n",
    "import tempfile\n",
    "import keras\n",
    "import matplotlib.pyplot as plt\n",
    "import matplotlib.image as mpimg\n",
    "from PIL import Image"
   ]
  },
  {
   "cell_type": "code",
   "execution_count": 2,
   "metadata": {},
   "outputs": [],
   "source": [
    "def rgb2gray(rgb):\n",
    "    return np.dot(rgb[...,:3], [0.299, 0.587, 0.144])"
   ]
  },
  {
   "cell_type": "code",
   "execution_count": 3,
   "metadata": {},
   "outputs": [
    {
     "name": "stdout",
     "output_type": "stream",
     "text": [
      "Loaded ML model\n"
     ]
    }
   ],
   "source": [
    "#model_path = \"models/first_model_more_data_1.h5\"\n",
    "#model_path = \"models/first_model.h5\"\n",
    "model_path = \"models/City.h5\"\n",
    "model = keras.models.load_model(model_path)\n",
    "print('Loaded ML model')"
   ]
  },
  {
   "cell_type": "code",
   "execution_count": 4,
   "metadata": {},
   "outputs": [
    {
     "name": "stdout",
     "output_type": "stream",
     "text": [
      "Connected!\n",
      "Client Ver:1 (Min Req: 1), Server Ver:1 (Min Req: 1)\n",
      "\n",
      "API Control enabled: True\n"
     ]
    }
   ],
   "source": [
    "# connect to the AirSim simulator\n",
    "client = airsim.CarClient()\n",
    "client.confirmConnection()\n",
    "client.enableApiControl(True)\n",
    "car_controls = airsim.CarControls()\n",
    "print(\"API Control enabled: %s\" % client.isApiControlEnabled())"
   ]
  },
  {
   "cell_type": "code",
   "execution_count": null,
   "metadata": {},
   "outputs": [],
   "source": [
    "print('hi')"
   ]
  },
  {
   "cell_type": "code",
   "execution_count": null,
   "metadata": {},
   "outputs": [],
   "source": [
    "# client.reset()"
   ]
  },
  {
   "cell_type": "code",
   "execution_count": 5,
   "metadata": {},
   "outputs": [
    {
     "name": "stdout",
     "output_type": "stream",
     "text": [
      "Connected!\n",
      "Client Ver:1 (Min Req: 1), Server Ver:1 (Min Req: 1)\n",
      "\n",
      "API Control enabled: True\n",
      "Speed 0, Gear 0\n"
     ]
    },
    {
     "name": "stderr",
     "output_type": "stream",
     "text": [
      "C:\\Users\\User\\anaconda3\\envs\\py36\\lib\\site-packages\\ipykernel_launcher.py:31: DeprecationWarning: The binary mode of fromstring is deprecated, as it behaves surprisingly on unicode inputs. Use frombuffer instead\n"
     ]
    },
    {
     "name": "stdout",
     "output_type": "stream",
     "text": [
      "WARNING:tensorflow:Model was constructed with shape (None, 59, 255, 3) for input Tensor(\"input_1:0\", shape=(None, 59, 255, 3), dtype=float32), but it was called on an input with incompatible shape (None, 256, 3).\n",
      "client broken\n"
     ]
    }
   ],
   "source": [
    "# connect to the AirSim simulator\n",
    "client = airsim.CarClient()\n",
    "client.confirmConnection()\n",
    "client.enableApiControl(True)\n",
    "car_controls = airsim.CarControls()\n",
    "print(\"API Control enabled: %s\" % client.isApiControlEnabled())\n",
    "\n",
    "try:\n",
    "    while 1:# get state of the car\n",
    "        car_state = client.getCarState()\n",
    "        print(\"Speed %d, Gear %d\" % (car_state.speed, car_state.gear))\n",
    "        \n",
    "        car_controls.throttle = max(min(10,(car_state.speed-10)/-5),0)\n",
    "        '''if car_state.speed < 5:\n",
    "            car_controls.throttle = 1\n",
    "        else:\n",
    "            car_controls.throttle = 0\n",
    "\n",
    "        # get camera images from the car\n",
    "        \n",
    "        responses = client.simGetImages([\n",
    "            airsim.ImageRequest(\"0\", airsim.ImageType.DepthVis),  #depth visualization image\n",
    "            airsim.ImageRequest(\"1\", airsim.ImageType.DepthPerspective, True), #depth in perspective projection\n",
    "            airsim.ImageRequest(\"1\", airsim.ImageType.Scene), #scene vision image in png format\n",
    "            airsim.ImageRequest(\"1\", airsim.ImageType.Scene, False, False)])  #scene vision image in uncompressed RGB array\n",
    "        print('Retrieved images: %d' % len(responses))\n",
    "        '''\n",
    "        \n",
    "        responses = client.simGetImages([airsim.ImageRequest(\"0\", airsim.ImageType.Scene,False,False)])\n",
    "        response = responses[0]\n",
    "        img1d = np.fromstring(response.image_data_uint8, dtype=np.uint8)\n",
    "        img_rgb = img1d.reshape(response.height, response.width, 3)\n",
    "        x_arr = img_rgb\n",
    "        '''\n",
    "        x_arr = rgb2gray(img_rgb)\n",
    "        x_arr = x_arr.reshape(1,response.height, response.width,1)\n",
    "        '''\n",
    "        steering = model.predict(x_arr)\n",
    "        print(steering)\n",
    "        '''\n",
    "        l_r = np.argmax(steering[0])\n",
    "            \n",
    "        if l_r == 0:\n",
    "            car_controls.steering = -0.05\n",
    "        elif l_r == 1:\n",
    "            car_controls.steering = 0\n",
    "        else:\n",
    "            car_controls.steering = 0.05\n",
    "        '''\n",
    "        client.setCarControls(car_controls)\n",
    "        \n",
    "        print(\"Go Forward\")\n",
    "        #time.sleep(0.05)\n",
    "        '''\n",
    "        # go forward\n",
    "        car_controls.throttle = 0.5\n",
    "        car_controls.steering = 0\n",
    "        client.setCarControls(car_controls)\n",
    "        print(\"Go Forward\")\n",
    "        time.sleep(3)   # let car drive a bit\n",
    "\n",
    "        # Go forward + steer right\n",
    "        car_controls.throttle = 0.5\n",
    "        car_controls.steering = 1\n",
    "        client.setCarControls(car_controls)\n",
    "        print(\"Go Forward, steer right\")\n",
    "        time.sleep(3)   # let car drive a bit\n",
    "\n",
    "        # go reverse\n",
    "        car_controls.throttle = -0.5\n",
    "        car_controls.is_manual_gear = True\n",
    "        car_controls.manual_gear = -1\n",
    "        car_controls.steering = 0\n",
    "        client.setCarControls(car_controls)\n",
    "        print(\"Go reverse, steer right\")\n",
    "        time.sleep(3)   # let car drive a bit\n",
    "        car_controls.is_manual_gear = False # change back gear to auto\n",
    "        car_controls.manual_gear = 0\n",
    "\n",
    "        # apply brakes\n",
    "        car_controls.brake = 1\n",
    "        client.setCarControls(car_controls)\n",
    "        print(\"Apply brakes\")\n",
    "        time.sleep(3)   # let car drive a bit\n",
    "        car_controls.brake = 0 #remove brake\n",
    "        \n",
    "\n",
    "        for response_idx, response in enumerate(responses):\n",
    "            filename = os.path.join(tmp_dir, f\"{0}_{response.image_type}_{response_idx}\")\n",
    "\n",
    "            if response.pixels_as_float:\n",
    "                print(\"Type %d, size %d\" % (response.image_type, len(response.image_data_float)))\n",
    "                airsim.write_pfm(os.path.normpath(filename + '.pfm'), airsim.get_pfm_array(response))\n",
    "            elif response.compress: #png format\n",
    "                print(\"Type %d, size %d\" % (response.image_type, len(response.image_data_uint8)))\n",
    "                airsim.write_file(os.path.normpath(filename + '.png'), response.image_data_uint8)\n",
    "            else: #uncompressed array\n",
    "                print(\"Type %d, size %d\" % (response.image_type, len(response.image_data_uint8)))\n",
    "                img1d = np.fromstring(response.image_data_uint8, dtype=np.uint8) # get numpy array\n",
    "                img_rgb = img1d.reshape(response.height, response.width, 3) # reshape array to 3 channel image array H X W X 3\n",
    "                cv2.imwrite(os.path.normpath(filename + '.png'), img_rgb) # write to png\n",
    "        '''\n",
    "except:\n",
    "    print('client broken')\n",
    "    \n",
    "    client.enableApiControl(False)\n",
    "                \n",
    "#restore to original state\n",
    "#client.reset()\n",
    "\n",
    "client.enableApiControl(False)\n"
   ]
  },
  {
   "cell_type": "code",
   "execution_count": null,
   "metadata": {},
   "outputs": [],
   "source": []
  }
 ],
 "metadata": {
  "kernelspec": {
   "display_name": "py36",
   "language": "python",
   "name": "myenv"
  },
  "language_info": {
   "codemirror_mode": {
    "name": "ipython",
    "version": 3
   },
   "file_extension": ".py",
   "mimetype": "text/x-python",
   "name": "python",
   "nbconvert_exporter": "python",
   "pygments_lexer": "ipython3",
   "version": "3.6.12"
  }
 },
 "nbformat": 4,
 "nbformat_minor": 4
}
